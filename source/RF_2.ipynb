{
 "cells": [
  {
   "cell_type": "code",
   "execution_count": 1,
   "metadata": {},
   "outputs": [],
   "source": [
    "import pandas as pd\n",
    "from sklearn.model_selection import ShuffleSplit, cross_val_score\n",
    "from sklearn.ensemble import RandomForestClassifier\n",
    "from sklearn.metrics import accuracy_score, precision_score, recall_score, f1_score\n",
    "from sklearn import tree"
   ]
  },
  {
   "cell_type": "code",
   "execution_count": 2,
   "metadata": {},
   "outputs": [],
   "source": [
    "FILES_PATH = \"../data/\""
   ]
  },
  {
   "cell_type": "code",
   "execution_count": 3,
   "metadata": {},
   "outputs": [],
   "source": [
    "dataset_2_25 = pd.read_excel(FILES_PATH + \"Dataset2_25%.xlsx\")\n",
    "dataset_2_50 = pd.read_excel(FILES_PATH + \"Dataset2_50%.xlsx\")\n",
    "dataset_2_75 = pd.read_excel(FILES_PATH + \"Dataset2_75%.xlsx\")\n",
    "dataset_2_100 = pd.read_excel(FILES_PATH + \"Dataset2_100%.xlsx\")"
   ]
  },
  {
   "cell_type": "code",
   "execution_count": 4,
   "metadata": {},
   "outputs": [],
   "source": [
    "all_data = {\n",
    "    \"25%\" : dataset_2_25,\n",
    "    \"50%\" : dataset_2_50,\n",
    "    \"75%\" : dataset_2_75,\n",
    "    \"100%\" : dataset_2_100\n",
    "}"
   ]
  },
  {
   "cell_type": "code",
   "execution_count": 9,
   "metadata": {},
   "outputs": [],
   "source": [
    "all_features_2 = [\"assign_view\", \"assign_submit\", \"quiz_attempt\", \"quiz_submit\"\n",
    "                ,\"quiz_view\", \"forum_part\", \"forum_view\", \"resource_view\",\n",
    "                \"folder_view\", \"url_view\", \"AM+\", \"AM-\", \"PM+\", \"PM-\"]"
   ]
  },
  {
   "cell_type": "code",
   "execution_count": 10,
   "metadata": {},
   "outputs": [],
   "source": [
    "features_selected = [\"assign_view\", \"assign_submit\", \"quiz_attempt\", \"quiz_submit\"\n",
    "                    ,\"quiz_view\",\"PM+\", \"PM-\", \"TDS\", \"TDA\", \"ADS\"]"
   ]
  },
  {
   "cell_type": "code",
   "execution_count": 28,
   "metadata": {},
   "outputs": [],
   "source": [
    "final_result = pd.DataFrame(columns=[\"accuracy\", \"precision\", \"recall\", \"f1\"])\n",
    "for dataset in all_data.keys():\n",
    "    evaluation = pd.DataFrame(columns=[\"accuracy\", \"precision\", \"recall\", \"f1\"])\n",
    "    #80% para entrenamiento y 20% para evaluación\n",
    "    train_set = all_data[dataset].iloc[:2308]\n",
    "    test_set  = all_data[dataset].iloc[2308:]\n",
    "\n",
    "    #preparando la validacion cruzada\n",
    "    y = train_set.copy().pop(\"status\")\n",
    "    X = train_set.copy().values\n",
    "    ss = ShuffleSplit(n_splits=5, test_size=0.20, random_state=0)\n",
    "    Kfold = {}\n",
    "    for i, (train_index, test_index) in enumerate(ss.split(X)):\n",
    "        Kfold[i] = {\n",
    "            \"train\" : train_index,\n",
    "            \"test\" : test_index\n",
    "        }\n",
    "\n",
    "    for i in Kfold.keys():\n",
    "        train = train_set.iloc[Kfold[i][\"train\"]]\n",
    "        test = train_set.iloc[Kfold[i][\"test\"]]\n",
    "        model = RandomForestClassifier(max_depth=4,criterion=\"entropy\")\n",
    "        model.fit(train[features_selected], train[\"status\"])\n",
    "        pred = model.predict(test[features_selected])\n",
    "        accuracy = accuracy_score(test[\"status\"], pred)\n",
    "        precision = precision_score(test[\"status\"], pred)\n",
    "        recall = recall_score(test[\"status\"],pred)\n",
    "        f1 = f1_score(test[\"status\"],pred)\n",
    "\n",
    "\n",
    "        evaluation = pd.concat([evaluation, pd.DataFrame({\"accuracy\" : accuracy, \n",
    "                                                          \"precision\" : precision, \n",
    "                                                          \"recall\": recall, \n",
    "                                                          \"f1\": f1}, index = [0])], ignore_index=True)\n",
    "\n",
    "    final_result = pd.concat([final_result, pd.DataFrame({\n",
    "        \"accuracy\" : evaluation[\"accuracy\"].mean(),\n",
    "        \"precision\" : evaluation[\"precision\"].mean(),\n",
    "        \"recall\" : evaluation[\"recall\"].mean(),\n",
    "        \"f1\" : evaluation[\"f1\"].mean()\n",
    "    }, index = [0])], ignore_index =True)"
   ]
  },
  {
   "cell_type": "code",
   "execution_count": 29,
   "metadata": {},
   "outputs": [],
   "source": [
    "final_result.index = all_data.keys()"
   ]
  },
  {
   "cell_type": "code",
   "execution_count": 30,
   "metadata": {},
   "outputs": [
    {
     "data": {
      "text/html": [
       "<div>\n",
       "<style scoped>\n",
       "    .dataframe tbody tr th:only-of-type {\n",
       "        vertical-align: middle;\n",
       "    }\n",
       "\n",
       "    .dataframe tbody tr th {\n",
       "        vertical-align: top;\n",
       "    }\n",
       "\n",
       "    .dataframe thead th {\n",
       "        text-align: right;\n",
       "    }\n",
       "</style>\n",
       "<table border=\"1\" class=\"dataframe\">\n",
       "  <thead>\n",
       "    <tr style=\"text-align: right;\">\n",
       "      <th></th>\n",
       "      <th>accuracy</th>\n",
       "      <th>precision</th>\n",
       "      <th>recall</th>\n",
       "      <th>f1</th>\n",
       "    </tr>\n",
       "  </thead>\n",
       "  <tbody>\n",
       "    <tr>\n",
       "      <th>25%</th>\n",
       "      <td>0.825108</td>\n",
       "      <td>0.826575</td>\n",
       "      <td>0.994762</td>\n",
       "      <td>0.902849</td>\n",
       "    </tr>\n",
       "    <tr>\n",
       "      <th>50%</th>\n",
       "      <td>0.825541</td>\n",
       "      <td>0.826632</td>\n",
       "      <td>0.995255</td>\n",
       "      <td>0.903096</td>\n",
       "    </tr>\n",
       "    <tr>\n",
       "      <th>75%</th>\n",
       "      <td>0.827273</td>\n",
       "      <td>0.827511</td>\n",
       "      <td>0.996318</td>\n",
       "      <td>0.904060</td>\n",
       "    </tr>\n",
       "    <tr>\n",
       "      <th>100%</th>\n",
       "      <td>0.826840</td>\n",
       "      <td>0.828597</td>\n",
       "      <td>0.993677</td>\n",
       "      <td>0.903615</td>\n",
       "    </tr>\n",
       "  </tbody>\n",
       "</table>\n",
       "</div>"
      ],
      "text/plain": [
       "      accuracy  precision    recall        f1\n",
       "25%   0.825108   0.826575  0.994762  0.902849\n",
       "50%   0.825541   0.826632  0.995255  0.903096\n",
       "75%   0.827273   0.827511  0.996318  0.904060\n",
       "100%  0.826840   0.828597  0.993677  0.903615"
      ]
     },
     "execution_count": 30,
     "metadata": {},
     "output_type": "execute_result"
    }
   ],
   "source": [
    "final_result"
   ]
  },
  {
   "cell_type": "code",
   "execution_count": 31,
   "metadata": {},
   "outputs": [],
   "source": [
    "final_result.to_json(FILES_PATH + \"RF_METRICAS_2_fs.json\")"
   ]
  },
  {
   "cell_type": "code",
   "execution_count": null,
   "metadata": {},
   "outputs": [],
   "source": []
  }
 ],
 "metadata": {
  "kernelspec": {
   "display_name": "env",
   "language": "python",
   "name": "python3"
  },
  "language_info": {
   "codemirror_mode": {
    "name": "ipython",
    "version": 3
   },
   "file_extension": ".py",
   "mimetype": "text/x-python",
   "name": "python",
   "nbconvert_exporter": "python",
   "pygments_lexer": "ipython3",
   "version": "3.10.10"
  }
 },
 "nbformat": 4,
 "nbformat_minor": 2
}
